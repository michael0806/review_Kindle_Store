{
 "cells": [
  {
   "cell_type": "markdown",
   "id": "0a4f87d3-147d-400e-94bc-22df9614eca6",
   "metadata": {},
   "source": [
    "# The aim of the project: Predicting the overall rating of Amazon Kindle products based on the textual content of the reviews."
   ]
  },
  {
   "cell_type": "markdown",
   "id": "14b4da35-d5bc-4c42-855b-aafb66cc01c7",
   "metadata": {},
   "source": [
    "* Applicant's Name: Michael Sun\n",
    "* Position Applied For: Intern Data Scientist\n",
    "* Documentations at the end."
   ]
  },
  {
   "cell_type": "markdown",
   "id": "37eb6b0b-2ffb-4f6e-a6ef-a573a07210d2",
   "metadata": {},
   "source": [
    "## First, Based on the basic observation of the dataset and the purpose of our project, we are interested in the two  variables which are reviewText and overall. We assume that Review id, asin, review name, summary, helpful, and time have no impact on the overall rate. The feature that most directly affects the rate should be reviewText, so only reviewText is selected as input."
   ]
  },
  {
   "cell_type": "code",
   "execution_count": 2,
   "id": "10cda1ce-c605-41f5-aeea-aa6a622731ba",
   "metadata": {},
   "outputs": [
    {
     "name": "stdout",
     "output_type": "stream",
     "text": [
      "                                          reviewText  overall\n",
      "0  I enjoy vintage books and movies so I enjoyed ...      5.0\n",
      "1  This book is a reissue of an old one; the auth...      4.0\n",
      "2  This was a fairly interesting read.  It had ol...      4.0\n",
      "3  I'd never read any of the Amy Brewster mysteri...      5.0\n",
      "4  If you like period pieces - clothing, lingo, y...      4.0\n"
     ]
    }
   ],
   "source": [
    "import pandas as pd\n",
    "\n",
    "# We select reviewText and overall for the aim of the project.\n",
    "# load the dataset\n",
    "df = pd.read_csv('review_Kindle_Store.csv', usecols=['reviewText', 'overall'])\n",
    "\n",
    "# Display the first few rows of data.\n",
    "print(df.head())"
   ]
  },
  {
   "cell_type": "code",
   "execution_count": 3,
   "id": "247fe64a-a727-48dc-8737-6b868bc43af5",
   "metadata": {},
   "outputs": [
    {
     "name": "stdout",
     "output_type": "stream",
     "text": [
      "982619\n",
      "982619\n"
     ]
    }
   ],
   "source": [
    "# Convert the data into the list \n",
    "# 1. Flexibility: Sometimes converting data to a list allows for more flexibility in performing certain types of operations.\n",
    "# 2. Memory usage: For small datasets, lists may be more memory efficient because pandas DataFrames have additional metadata overhead.\n",
    "# we can use pandas as well: More efficient data operation for larger dataset. \n",
    "# 1. Reduce the amount of code. more powerful functins can perform complex data analysis. \n",
    "# 2. Come with it's own index more convienient for data operation.\n",
    "\n",
    "# Next, we need to convert each review text into a word vector.\n",
    "review_text_list = list(df[\"reviewText\"])\n",
    "rate_list = list(df[\"overall\"])\n",
    "\n",
    "# Check the total amount of data\n",
    "print(len(review_text_list))\n",
    "print(len(rate_list)) "
   ]
  },
  {
   "cell_type": "code",
   "execution_count": 6,
   "id": "39282e99-d65a-4e2c-9c60-4b75c1868cc9",
   "metadata": {},
   "outputs": [],
   "source": [
    "# Initialize lists to store text length, filtered text, and ratings\n",
    "# Handling dirty data. Pandas is more efficient.\n",
    "text_length_list = []\n",
    "rate_filter_list = []\n",
    "text_filter_list = []\n",
    "\n",
    "# Traverse all text, calculate length and filter invalid data\n",
    "for i in range(len(review_text_list)):\n",
    "    text = review_text_list[i]\n",
    "    rate = rate_list[i]\n",
    "    try:\n",
    "        text_length_list.append(len(text.split())) # Calculate the length of each text in reviewText\n",
    "        text_filter_list.append(text) # Add to the filtered text list\n",
    "        rate_filter_list.append(rate) # Add to the filtered rating list\n",
    "    # If an exception occurs, the data will not be included in the training.\n",
    "    # check null value and filter out\n",
    "    except Exception as e:\n",
    "        pass\n",
    "        #print(text)\n",
    "\n",
    "# Because the local CPU is used for running, running all the data is too slow.\n",
    "# Use 300,000 data points for training\n",
    "data_num = 300000 \n",
    "\n",
    "text_length_list = text_length_list[:data_num] #The length of the text in revewTxet, not the length of the words.\n",
    "rate_filter_list = rate_filter_list[:data_num]\n",
    "text_filter_list = text_filter_list[:data_num]\n",
    "# print(text_length_list)"
   ]
  },
  {
   "cell_type": "code",
   "execution_count": 7,
   "id": "47181f1f-0e48-4be9-89cf-8ad809970f85",
   "metadata": {},
   "outputs": [
    {
     "name": "stdout",
     "output_type": "stream",
     "text": [
      "total text length :  300000\n",
      "the average length: 105.18865333333333\n",
      "the length longer than average text number :  90771\n"
     ]
    }
   ],
   "source": [
    "# Check the average length of the text. To run well on this data, we better choose a long text model, such as transformer.\n",
    "# Estimated number of words\n",
    "average_length = sum(text_length_list) / len(text_length_list)\n",
    "print(\"total text length : \", len(text_length_list))\n",
    "\n",
    "# Word length and text length are considered. The average text and word are too long. Word vectors are based on words. \n",
    "# The first 25 words are taken forcibly.\n",
    "# Identify texts longer than the average length\n",
    "long_strings = [s for s in text_length_list if s > average_length]\n",
    "print(\"the average length:\", average_length)\n",
    "print(\"the length longer than average text number : \", len(long_strings))"
   ]
  },
  {
   "cell_type": "code",
   "execution_count": 5,
   "id": "cd1fe047-5deb-4135-b4fc-3ba5cf519102",
   "metadata": {},
   "outputs": [
    {
     "name": "stdout",
     "output_type": "stream",
     "text": [
      "File exists and hash matches. No need to download.\n"
     ]
    }
   ],
   "source": [
    "import os\n",
    "import hashlib\n",
    "\n",
    "# Windows does not support it, you need to download and decompress it manually.\n",
    "def file_hash(filename):\n",
    "    \"\"\"Calculate the MD5 hash of a file\"\"\"\n",
    "    hash_md5 = hashlib.md5()\n",
    "    with open(filename, \"rb\") as f:\n",
    "        for chunk in iter(lambda: f.read(4096), b\"\"):\n",
    "            hash_md5.update(chunk)\n",
    "    return hash_md5.hexdigest()\n",
    "\n",
    "file_name = 'glove.6B.zip'\n",
    "url = 'https://nlp.stanford.edu/data/glove.6B.zip'\n",
    "\n",
    "# glove.6B.zip correct MD5 hash value： Global Vectors for Word Representation\n",
    "correct_hash = '056ea991adb4740ac6bf1b6d9b50408b'\n",
    "\n",
    "# Words become numbers, using the glove dictionary, inputting a word will return a number.\n",
    "# 500 words, words are related to each other. So words become phase quantities in space. Connected in space.\n",
    "# What are the training word vector models? GloVe, word2vec, Skip-gram and CBOW\n",
    "\n",
    "# Check if glove.6B.zip have been alreday downloaded.\n",
    "if os.path.exists(file_name) and file_hash(file_name) == correct_hash:\n",
    "    print(\"File exists and hash matches. No need to download.\")\n",
    "else:\n",
    "    print(\"downloading...\")\n",
    "    !curl -o {file_name} {url} -L\n",
    "    !unzip {file_name}"
   ]
  },
  {
   "cell_type": "code",
   "execution_count": 8,
   "id": "303b062a-8b4b-4d98-8627-61dd66fb63f9",
   "metadata": {},
   "outputs": [],
   "source": [
    "import numpy as np\n",
    "# Load the glove dictionary. embedding turns words into vectors and embeds them into an N-dimensional space.\n",
    "# Word embedding is to map the words in the space X to a multi-dimensional vector in the space Y. \n",
    "# Then the multi-dimensional vector is equivalent to embedding in the space Y. One carrot one pit. \n",
    "# Word embedding is to find a mapping or function to generate an expression in a new space. The expression is the word representation.\n",
    "# Word embeddings are a way of representing words as vectors in a multi-dimensional space, where the distance and direction between vectors reflect the similarity and relationships among the corresponding words.\n",
    "\n",
    "def load_glove_embeddings(path):\n",
    "    embeddings_index = {}\n",
    "    with open(path, 'r', encoding='utf8') as f:\n",
    "        for line in f:\n",
    "            values = line.split()\n",
    "            word = values[0]\n",
    "            vector = np.asarray(values[1:], dtype='float32')\n",
    "            embeddings_index[word] = vector\n",
    "    return embeddings_index\n",
    "    \n",
    "# Adv of Glove: Globally optiminzing the co-occurrence matrix.\n",
    "# Interpretability: good geometric structure in vector space.\n",
    "# Adaptablilty： handle large-scale corpora and generate high-quality word vector representations.\n",
    "# Use 6B 100d, which is more suitable for local CPU operation.\n",
    "# Load word vectors into embeddings_index dictionary\n",
    "embeddings_index = load_glove_embeddings('glove.6B/glove.6B.100d.txt')"
   ]
  },
  {
   "cell_type": "code",
   "execution_count": 9,
   "id": "55cab6fd-f506-485c-9e27-009883605e5a",
   "metadata": {},
   "outputs": [
    {
     "name": "stdout",
     "output_type": "stream",
     "text": [
      "(50, 100)\n"
     ]
    }
   ],
   "source": [
    "# Convert sentences into matrices\n",
    "def sentence_to_vec(sentence, embeddings_index, max_len=50, vec_size=100):\n",
    "    words = sentence.split()\n",
    "    sentence_matrix = np.zeros((max_len, vec_size))\n",
    "\n",
    "    for i, word in enumerate(words):\n",
    "        if i >= max_len:\n",
    "            break\n",
    "        vector = embeddings_index.get(word)\n",
    "        if vector is not None:\n",
    "            sentence_matrix[i] = vector\n",
    "        else:\n",
    "            sentence_matrix[i] = np.random.normal(size=(vec_size,))\n",
    "\n",
    "    return sentence_matrix\n",
    "\n",
    "# Demo checking\n",
    "sentence = \"This is an example sentence hello\"\n",
    "vec_matrix = sentence_to_vec(sentence, embeddings_index)\n",
    "print(vec_matrix.shape)"
   ]
  },
  {
   "cell_type": "code",
   "execution_count": 10,
   "id": "3ac360eb-49df-40b0-a739-6f4df3d60aa0",
   "metadata": {},
   "outputs": [],
   "source": [
    "# Locally use CPU training, so using 25 as the text length. If we use GPU, we can try to modify it to a longer time step, LSTM can also support it, https://stats.stackexchange.com/questions/295106/sequence-lengths-in-lstm-bilstms-and-overfitting\n",
    "# Embedded in a 25*100 vector\n",
    "\n",
    "text_length = 25 \n",
    "\n",
    "# Allocate all memory to speed up training and avoid temporary memory allocation during training\n",
    "# np.zeros gets the matrix out and adds the data in\n",
    "X_data = np.zeros((len(text_filter_list), int(text_length), 100))\n",
    "# Put X_data into a 300000*25*100 vector\n",
    "for i in range(len(text_filter_list)):\n",
    "    X_data[i] = sentence_to_vec(text_filter_list[i], embeddings_index, int(text_length), 100)"
   ]
  },
  {
   "cell_type": "code",
   "execution_count": 11,
   "id": "3416806e-540b-450b-a2fe-976586b8794c",
   "metadata": {},
   "outputs": [],
   "source": [
    "# Convert ratings into vectors\n",
    "# 300000*1\n",
    "y_data = np.array(rate_filter_list).astype(np.int64) "
   ]
  },
  {
   "cell_type": "code",
   "execution_count": 12,
   "id": "8c180adf-047f-4ccc-b8f9-b0b312d19d06",
   "metadata": {},
   "outputs": [
    {
     "data": {
      "image/png": "[encoded data removed]",
      "text/plain": [
       "<Figure size 800x800 with 1 Axes>"
      ]
     },
     "metadata": {},
     "output_type": "display_data"
    }
   ],
   "source": [
    "import matplotlib.pyplot as plt\n",
    "# View the proportion of Overall Rating.\n",
    "label_num = [np.count_nonzero(y_data == 1), # How many of select data (200000) are rate 1?\n",
    "             np.count_nonzero(y_data == 2),\n",
    "             np.count_nonzero(y_data == 3), \n",
    "             np.count_nonzero(y_data == 4), \n",
    "             np.count_nonzero(y_data == 5)]\n",
    "\n",
    "plt.figure(figsize=(8, 8))  \n",
    "plt.pie(label_num, labels=[\"rate=1\",\"rate=2\",\"rate=3\",\"rate=4\",\"rate=5\"], autopct='%1.1f%%', startangle=140)\n",
    "plt.title('Distribution of Overall Ratings')\n",
    "plt.show()"
   ]
  },
  {
   "cell_type": "markdown",
   "id": "58cc26ad-0489-4c7c-9017-19338565e4c5",
   "metadata": {},
   "source": [
    "From the distribution of the overall rate, we can see that about 50% of the ratings are 5, and about 30% of the ratings are 4. There is a sample imbalance problem."
   ]
  },
  {
   "cell_type": "code",
   "execution_count": 14,
   "id": "20e4bbd9-7fe6-4d53-b91e-7768d9b5c861",
   "metadata": {},
   "outputs": [
    {
     "name": "stderr",
     "output_type": "stream",
     "text": [
      "C:\\Users\\cuist\\AppData\\Local\\Temp\\ipykernel_22864\\3757986278.py:8: UserWarning: To copy construct from a tensor, it is recommended to use sourceTensor.clone().detach() or sourceTensor.clone().detach().requires_grad_(True), rather than torch.tensor(sourceTensor).\n",
      "  X_data = torch.tensor(X_data, dtype=torch.float32)  # # Convert numpy to PyTorch tensor\n",
      "C:\\Users\\cuist\\AppData\\Local\\Temp\\ipykernel_22864\\3757986278.py:9: UserWarning: To copy construct from a tensor, it is recommended to use sourceTensor.clone().detach() or sourceTensor.clone().detach().requires_grad_(True), rather than torch.tensor(sourceTensor).\n",
      "  y_data = torch.tensor(y_data, dtype=torch.int64) # # Convert to PyTorch tensor\n"
     ]
    },
    {
     "name": "stdout",
     "output_type": "stream",
     "text": [
      "torch.Size([300000, 25, 100]) torch.Size([300000])\n",
      "[7720, 11237, 29726, 68372, 122945] 240000\n",
      "240000\n",
      "240000\n"
     ]
    }
   ],
   "source": [
    "import torch\n",
    "from torch.utils.data import DataLoader, TensorDataset, WeightedRandomSampler\n",
    "import torch.nn.functional as F\n",
    "from sklearn.model_selection import train_test_split\n",
    "\n",
    "# X_data: an array of shape (n_samples, max_len, vec_size)\n",
    "# y_data: an array of shape (n_samples)\n",
    "X_data = torch.tensor(X_data, dtype=torch.float32)  # # Convert numpy to PyTorch tensor\n",
    "y_data = torch.tensor(y_data, dtype=torch.int64) # # Convert to PyTorch tensor\n",
    "print(X_data.shape, y_data.shape)\n",
    "\n",
    "# training and test dataset split\n",
    "X_train, X_test, y_train, y_test = train_test_split(X_data, y_data, test_size=0.2, random_state=20)\n",
    "\n",
    "# From the pie chart above, we can see that this is a sample imbalance problem, so we use WeightedRandomSampler to balance the sample. \n",
    "# This sampler will sample from the data according to the weight.\n",
    "# Imbalanced data preprocessing\n",
    "class_counts = [np.count_nonzero(y_train == 1), \n",
    "                np.count_nonzero(y_train == 2),\n",
    "                np.count_nonzero(y_train == 3), \n",
    "                np.count_nonzero(y_train == 4), \n",
    "                np.count_nonzero(y_train == 5)]\n",
    "\n",
    "\n",
    "print(class_counts, sum(class_counts))\n",
    "total_count = sum(class_counts)\n",
    "print(total_count)\n",
    "\n",
    "class_weights = [total_count / c  for c in class_counts]\n",
    "# Sampling weight: Sample weight is derived from the rate percentage\n",
    "sample_weights = [class_weights[y - 1] for y in y_train] # Setting sample weights\n",
    "print(total_count)\n",
    "sampler = WeightedRandomSampler(sample_weights, num_samples=total_count, replacement=True)\n",
    "\n",
    "# one-hot encoding the data. The one hot index starts at 0 and the data labels are from 1 to 5, so -1 is needed.\n",
    "y_train = y_train - 1\n",
    "y_test = y_test - 1\n",
    "y_train = F.one_hot(y_train, num_classes=5).float()\n",
    "y_test = F.one_hot(y_test, num_classes=5).float()\n",
    "train_dataset = TensorDataset(X_train, y_train)\n",
    "test_dataset = TensorDataset(X_test, y_test)\n",
    "\n",
    "# Create DataLoader\n",
    "# The train data uses the sampler sampler and does not need to be shuffled.\n",
    "train_loader = DataLoader(train_dataset, batch_size=32, sampler=sampler)\n",
    "# Test set does not use sampler.\n",
    "test_loader = DataLoader(test_dataset, batch_size=32, shuffle=False) "
   ]
  },
  {
   "cell_type": "markdown",
   "id": "f94dc548-a5ce-4de4-b6b1-4f7882b1a599",
   "metadata": {},
   "source": [
    "The output confirms that the data has been correctly converted, split, and balanced using the WeightedRandomSampler. The class counts indicate an imbalanced dataset, which has been addressed by the calculated class weights and the sampler."
   ]
  },
  {
   "cell_type": "code",
   "execution_count": 15,
   "id": "df80953d-1e10-4a82-87e9-bef5f9a4a098",
   "metadata": {},
   "outputs": [
    {
     "data": {
      "text/plain": [
       "torch.Size([240000, 5])"
      ]
     },
     "execution_count": 15,
     "metadata": {},
     "output_type": "execute_result"
    }
   ],
   "source": [
    "y_train.shape"
   ]
  },
  {
   "cell_type": "markdown",
   "id": "653d4e0c-5b3a-463e-9b62-006ece137c72",
   "metadata": {},
   "source": [
    "###### The output meaning there are 240,000 training samples, each represented by a one-hot encoded vector of size 5."
   ]
  },
  {
   "cell_type": "code",
   "execution_count": 16,
   "id": "f5686443-a917-489b-8cbe-a6fa3bf11373",
   "metadata": {},
   "outputs": [
    {
     "name": "stdout",
     "output_type": "stream",
     "text": [
      "Batch labels distribution:\n",
      "tensor([[0., 0., 0., 1., 0.],\n",
      "        [0., 0., 0., 0., 1.],\n",
      "        [0., 0., 0., 1., 0.],\n",
      "        [0., 0., 0., 0., 1.],\n",
      "        [0., 0., 0., 0., 1.],\n",
      "        [0., 1., 0., 0., 0.],\n",
      "        [0., 0., 1., 0., 0.],\n",
      "        [0., 0., 0., 0., 1.],\n",
      "        [0., 0., 1., 0., 0.],\n",
      "        [0., 0., 0., 0., 1.],\n",
      "        [1., 0., 0., 0., 0.],\n",
      "        [0., 0., 0., 1., 0.],\n",
      "        [1., 0., 0., 0., 0.],\n",
      "        [0., 0., 1., 0., 0.],\n",
      "        [0., 0., 1., 0., 0.],\n",
      "        [0., 1., 0., 0., 0.],\n",
      "        [1., 0., 0., 0., 0.],\n",
      "        [0., 0., 0., 0., 1.],\n",
      "        [1., 0., 0., 0., 0.],\n",
      "        [0., 0., 1., 0., 0.],\n",
      "        [1., 0., 0., 0., 0.],\n",
      "        [0., 1., 0., 0., 0.],\n",
      "        [0., 0., 0., 1., 0.],\n",
      "        [0., 0., 0., 0., 1.],\n",
      "        [0., 1., 0., 0., 0.],\n",
      "        [0., 0., 0., 0., 1.],\n",
      "        [0., 0., 0., 0., 1.],\n",
      "        [0., 0., 0., 0., 1.],\n",
      "        [0., 1., 0., 0., 0.],\n",
      "        [0., 0., 1., 0., 0.],\n",
      "        [0., 0., 0., 0., 1.],\n",
      "        [0., 0., 1., 0., 0.]])\n"
     ]
    }
   ],
   "source": [
    "# Check if the mini-batch samples are balanced.\n",
    "for data, labels in train_loader:\n",
    "    print(\"Batch labels distribution:\")\n",
    "    print(labels)\n",
    "    break"
   ]
  },
  {
   "cell_type": "code",
   "execution_count": 17,
   "id": "1ed88b0f-9e0f-4fea-89b6-001397b41e51",
   "metadata": {},
   "outputs": [],
   "source": [
    "import torch.nn as nn\n",
    "\n",
    "# Define the text classifier model LSTM \n",
    "class SelfModel(nn.Module):\n",
    "    def __init__(self, input_dim, hidden_dim, output_dim=5):\n",
    "        super(SelfModel, self).__init__()\n",
    "        self.lstm = nn.LSTM(input_dim, hidden_dim, batch_first=True)\n",
    "        self.dropout = nn.Dropout(0.5)\n",
    "        self.fc = nn.Linear(hidden_dim, output_dim)\n",
    "    \n",
    "    def forward(self, x):\n",
    "        _, (hidden, _) = self.lstm(x)\n",
    "        # out = self.dropout(hidden[-1])\n",
    "        out = self.fc(hidden[-1])\n",
    "        return out\n"
   ]
  },
  {
   "cell_type": "code",
   "execution_count": 20,
   "id": "1d08753e-11ef-4c86-a0f5-0453c6ffc661",
   "metadata": {},
   "outputs": [
    {
     "name": "stdout",
     "output_type": "stream",
     "text": [
      "Epoch 1, Loss: 1.428884506225586\n",
      "Epoch 2, Loss: 1.645249843597412\n",
      "Epoch 3, Loss: 1.2424613237380981\n",
      "Epoch 4, Loss: 1.255494475364685\n",
      "Epoch 5, Loss: 1.2915291786193848\n",
      "Epoch 6, Loss: 1.5500154495239258\n",
      "Epoch 7, Loss: 1.3679596185684204\n",
      "Epoch 8, Loss: 1.1154717206954956\n",
      "Epoch 9, Loss: 1.2705068588256836\n",
      "Epoch 10, Loss: 1.2753342390060425\n"
     ]
    }
   ],
   "source": [
    "device = torch.device(\"cuda\" if torch.cuda.is_available() else \"cpu\")\n",
    "model = SelfModel(100, 64, 5)\n",
    "model.to(device)\n",
    "# start training\n",
    "def train_model(model, train_loader, criterion, optimizer, num_epochs):\n",
    "    model.train()\n",
    "    for epoch in range(num_epochs):\n",
    "        for inputs, labels in train_loader:\n",
    "            inputs, labels = inputs.to(device), labels.to(device)\n",
    "            optimizer.zero_grad()\n",
    "            outputs = model(inputs)\n",
    "            loss = criterion(outputs, labels.max(1)[1]) \n",
    "            loss.backward()\n",
    "            optimizer.step()\n",
    "        print(f'Epoch {epoch+1}, Loss: {loss.item()}')\n",
    "\n",
    "# Define loss function and optimizer\n",
    "criterion = nn.CrossEntropyLoss() \n",
    "optimizer = torch.optim.Adam(model.parameters(), lr=0.0001)# Optimizer Adam is the most used. An upgraded version of gradient descent\n",
    "\n",
    "# Train the model\n",
    "train_model(model, train_loader, criterion, optimizer, num_epochs=10) "
   ]
  },
  {
   "cell_type": "code",
   "execution_count": 21,
   "id": "4372388d-3ef6-4737-8945-83b46098d6d5",
   "metadata": {},
   "outputs": [
    {
     "name": "stdout",
     "output_type": "stream",
     "text": [
      "Precision: 30.76%\n",
      "Recall: 37.01%\n",
      "F1-Score: 30.96%\n",
      "Accuracy: 42.13%\n"
     ]
    },
    {
     "data": {
      "image/png": "[encoded data removed]",
      "text/plain": [
       "<Figure size 800x600 with 2 Axes>"
      ]
     },
     "metadata": {},
     "output_type": "display_data"
    }
   ],
   "source": [
    "from sklearn.metrics import confusion_matrix, precision_recall_fscore_support\n",
    "import numpy as np\n",
    "import matplotlib.pyplot as plt\n",
    "from matplotlib.colors import ListedColormap\n",
    "\n",
    "# Evaluate model performance\n",
    "def evaluate_model(model, test_loader):\n",
    "    model.eval()\n",
    "    device = torch.device(\"cuda\" if torch.cuda.is_available() else \"cpu\")\n",
    "    all_labels = []\n",
    "    all_preds = []\n",
    "  \n",
    "    with torch.no_grad():\n",
    "        for inputs, labels in test_loader:\n",
    "            inputs, labels = inputs.to(device), labels.to(device)\n",
    "            outputs = model(inputs)\n",
    "            _, predicted = torch.max(outputs, 1)\n",
    "            _, true = torch.max(labels, 1)\n",
    "            all_preds.extend(predicted.cpu().numpy())\n",
    "            all_labels.extend(true.cpu().numpy())\n",
    "    \n",
    "    # Compute the confusion matrix\n",
    "    conf_matrix = confusion_matrix(all_labels, all_preds)\n",
    "    precision, recall, fscore, _ = precision_recall_fscore_support(all_labels, all_preds, average='macro')\n",
    "    accuracy = np.trace(conf_matrix) / np.sum(conf_matrix) * 100  # Calculate accuracy\n",
    "    #print(conf_matrix)\n",
    "    \n",
    "    # Print metrics\n",
    "    print(f'Precision: {precision*100:.2f}%') # Among all the data predicted as TP and FP, what percentage of them are actually Positive\n",
    "    print(f'Recall: {recall*100:.2f}%') # Among all the data predict as TP and FN, the percentage of them are actually Positive\n",
    "    print(f'F1-Score: {fscore*100:.2f}%') # Combine the Precision and Recall\n",
    "    print(f'Accuracy: {accuracy:.2f}%')  # Display accuracy\n",
    "\n",
    "    # Plot confusion matrix\n",
    "    fig, ax = plt.subplots(figsize=(8, 6))\n",
    "    cax = ax.matshow(conf_matrix, cmap='Blues')\n",
    "    fig.colorbar(cax)\n",
    "    for (i, j), val in np.ndenumerate(conf_matrix):\n",
    "        ax.text(j, i, val, ha='center', va='center', color='black')\n",
    "    \n",
    "    ax.set_xlabel('Predicted Label')\n",
    "    ax.set_ylabel('True Label')\n",
    "    ax.set_xticks(range(len(conf_matrix)))\n",
    "    ax.set_yticks(range(len(conf_matrix)))\n",
    "    ax.set_xticklabels(range(1, 6))\n",
    "    ax.set_yticklabels(range(1, 6))\n",
    "    ax.set_title('Confusion Matrix')\n",
    "    plt.show()\n",
    "\n",
    "evaluate_model(model, test_loader) # Call the evaluation function"
   ]
  },
  {
   "cell_type": "markdown",
   "id": "1f04982f-182a-4fed-a1f6-bf13c9d76648",
   "metadata": {},
   "source": [
    "### Evaluating the quality of the model\n",
    "1. From the accuracy score, the model is not very effective, the accuracy is below 50%, because the model is small, the text length is short, only a part of the data is used, and the number of training times is not large, so the effect is acceptable.\n",
    "2. From the confusion matrix, 1 means rate 1 and so on, we can see that rate 5 is the most correctly classified as rate 5, and many rate 4 reviews are also incorrectly classified as rate 5.\n",
    "3. If better machines are available, we can increase the number of training times and sample sizes as well as longer texts to improve model capabilities."
   ]
  },
  {
   "cell_type": "markdown",
   "id": "eaa0c9c7-4f50-465c-a0c0-eb1cdfc5ff3d",
   "metadata": {},
   "source": [
    "## Documentation for Amazon Kindle Reviews Analysis\n",
    "1. Business Understanding\n",
    "* 1.1 Objective:\n",
    "    To predict the overall rating of Amazon Kindle products based on user review text.\n",
    "* 1.2 Goals:\n",
    "    Develop a machine learning model to classify review ratings.\n",
    "    Provide insights into model performance using appropriate metrics and visualizations.\n",
    "\n",
    "2. Data Understanding\n",
    "* 2.1 Dataset:\n",
    "    Sample of 982,619 reviews from the Amazon Kindle store.\n",
    "    Key columns: reviewerID, asin, reviewerName, helpful, reviewText, overall, summary, unixReviewTime, reviewTime.\n",
    "\n",
    "3. Data Preparation\n",
    "* 3.1 Data Filtering:\n",
    "    Review texts and ratings are extracted into separate lists.\n",
    "    The length of each review text is calculated, and only valid data is kept.\n",
    "    A subset of 200,000 samples is used for training due to computational constraints.\n",
    "* 3.2 Text Length Analysis:\n",
    "    The average length of review texts is calculated.\n",
    "    Reviews longer than the average are identified.\n",
    "\n",
    "4. Pre-trained Word Embeddings\n",
    "* 4.1 GloVe Embeddings:\n",
    "    GloVe embeddings are used for word representation.\n",
    "    The file glove.6B.zip is downloaded and extracted if not already present.\n",
    "    The embeddings are loaded into memory for further processing.\n",
    "\n",
    "5. Model Training\n",
    "* 5.1 Model Architecture:\n",
    "    A deep learning model is constructed using PyTorch, specifically an LSTM for text classification.\n",
    "* 5.2 Training:\n",
    "    The model is trained using a training dataset for a specified number of epochs.\n",
    "6. Model Evaluation\n",
    "* 6.1 Evaluation Metrics:\n",
    "    The model is evaluated using metrics such as precision, recall, F1-score, and accuracy.\n",
    "* 6.2 Results:\n",
    "    The model achieved the accuracy is below 50%, indicating potential for improvement with more training data, longer texts, and more training epochs.\n",
    "\n",
    "7. Conclusion：\n",
    "The project successfully implemented a text classification model to predict overall ratings from review texts. Future improvements could include utilizing more computational resources and advanced models for better performance.\n"
   ]
  }
 ],
 "metadata": {
  "kernelspec": {
   "display_name": "Python 3 (ipykernel)",
   "language": "python",
   "name": "python3"
  },
  "language_info": {
   "codemirror_mode": {
    "name": "ipython",
    "version": 3
   },
   "file_extension": ".py",
   "mimetype": "text/x-python",
   "name": "python",
   "nbconvert_exporter": "python",
   "pygments_lexer": "ipython3",
   "version": "3.11.7"
  }
 },
 "nbformat": 4,
 "nbformat_minor": 5
}
